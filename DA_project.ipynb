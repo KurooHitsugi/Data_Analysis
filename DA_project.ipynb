{
 "cells": [
  {
   "cell_type": "code",
   "execution_count": 2,
   "id": "96d16467",
   "metadata": {},
   "outputs": [],
   "source": [
    "import pandas as pd\n",
    "import numpy as np\n",
    "import matplotlib.pyplot as plt\n",
    "import seaborn as sns\n",
    "from scipy import stats\n",
    "%matplotlib inline\n",
    "from datetime import datetime\n",
    "from datetime import timedelta\n",
    "import time\n",
    "import warnings\n",
    "warnings.filterwarnings('ignore')\n",
    "\n",
    "\n"
   ]
  },
  {
   "cell_type": "markdown",
   "id": "43a37af1",
   "metadata": {},
   "source": [
    "# 0. Предобработка данных\n",
    "\n",
    "На данном этапе мы осмотрим наши данные на наличие дубликатов, пропущенных значений и каких-либо закономерностей. "
   ]
  },
  {
   "cell_type": "code",
   "execution_count": 3,
   "id": "571e7369",
   "metadata": {},
   "outputs": [],
   "source": [
    "\n",
    "df1 = pd.read_csv('auth_data.csv', sep=';')\n",
    "df2 = pd.read_csv('reg_data.csv', sep=';')"
   ]
  },
  {
   "cell_type": "code",
   "execution_count": 4,
   "id": "660a6fd6",
   "metadata": {},
   "outputs": [
    {
     "data": {
      "text/html": [
       "<div>\n",
       "<style scoped>\n",
       "    .dataframe tbody tr th:only-of-type {\n",
       "        vertical-align: middle;\n",
       "    }\n",
       "\n",
       "    .dataframe tbody tr th {\n",
       "        vertical-align: top;\n",
       "    }\n",
       "\n",
       "    .dataframe thead th {\n",
       "        text-align: right;\n",
       "    }\n",
       "</style>\n",
       "<table border=\"1\" class=\"dataframe\">\n",
       "  <thead>\n",
       "    <tr style=\"text-align: right;\">\n",
       "      <th></th>\n",
       "      <th>auth_ts</th>\n",
       "      <th>uid</th>\n",
       "    </tr>\n",
       "  </thead>\n",
       "  <tbody>\n",
       "    <tr>\n",
       "      <th>0</th>\n",
       "      <td>911382223</td>\n",
       "      <td>1</td>\n",
       "    </tr>\n",
       "    <tr>\n",
       "      <th>1</th>\n",
       "      <td>932683089</td>\n",
       "      <td>2</td>\n",
       "    </tr>\n",
       "    <tr>\n",
       "      <th>2</th>\n",
       "      <td>932921206</td>\n",
       "      <td>2</td>\n",
       "    </tr>\n",
       "    <tr>\n",
       "      <th>3</th>\n",
       "      <td>933393015</td>\n",
       "      <td>2</td>\n",
       "    </tr>\n",
       "    <tr>\n",
       "      <th>4</th>\n",
       "      <td>933875379</td>\n",
       "      <td>2</td>\n",
       "    </tr>\n",
       "  </tbody>\n",
       "</table>\n",
       "</div>"
      ],
      "text/plain": [
       "     auth_ts  uid\n",
       "0  911382223    1\n",
       "1  932683089    2\n",
       "2  932921206    2\n",
       "3  933393015    2\n",
       "4  933875379    2"
      ]
     },
     "execution_count": 4,
     "metadata": {},
     "output_type": "execute_result"
    }
   ],
   "source": [
    "df1.head()\n"
   ]
  },
  {
   "cell_type": "code",
   "execution_count": 70,
   "id": "45f34cb8",
   "metadata": {},
   "outputs": [
    {
     "data": {
      "text/plain": [
       "auth_ts    0\n",
       "uid        0\n",
       "dtype: int64"
      ]
     },
     "execution_count": 70,
     "metadata": {},
     "output_type": "execute_result"
    }
   ],
   "source": [
    "df1.isna().sum()\n"
   ]
  },
  {
   "cell_type": "code",
   "execution_count": 71,
   "id": "d1d1e363",
   "metadata": {},
   "outputs": [
    {
     "data": {
      "text/plain": [
       "0"
      ]
     },
     "execution_count": 71,
     "metadata": {},
     "output_type": "execute_result"
    }
   ],
   "source": [
    "df1.duplicated().sum()"
   ]
  },
  {
   "cell_type": "code",
   "execution_count": 5,
   "id": "d806b9aa",
   "metadata": {},
   "outputs": [
    {
     "data": {
      "text/html": [
       "<div>\n",
       "<style scoped>\n",
       "    .dataframe tbody tr th:only-of-type {\n",
       "        vertical-align: middle;\n",
       "    }\n",
       "\n",
       "    .dataframe tbody tr th {\n",
       "        vertical-align: top;\n",
       "    }\n",
       "\n",
       "    .dataframe thead th {\n",
       "        text-align: right;\n",
       "    }\n",
       "</style>\n",
       "<table border=\"1\" class=\"dataframe\">\n",
       "  <thead>\n",
       "    <tr style=\"text-align: right;\">\n",
       "      <th></th>\n",
       "      <th>reg_ts</th>\n",
       "      <th>uid</th>\n",
       "    </tr>\n",
       "  </thead>\n",
       "  <tbody>\n",
       "    <tr>\n",
       "      <th>0</th>\n",
       "      <td>911382223</td>\n",
       "      <td>1</td>\n",
       "    </tr>\n",
       "    <tr>\n",
       "      <th>1</th>\n",
       "      <td>932683089</td>\n",
       "      <td>2</td>\n",
       "    </tr>\n",
       "    <tr>\n",
       "      <th>2</th>\n",
       "      <td>947802447</td>\n",
       "      <td>3</td>\n",
       "    </tr>\n",
       "    <tr>\n",
       "      <th>3</th>\n",
       "      <td>959523541</td>\n",
       "      <td>4</td>\n",
       "    </tr>\n",
       "    <tr>\n",
       "      <th>4</th>\n",
       "      <td>969103313</td>\n",
       "      <td>5</td>\n",
       "    </tr>\n",
       "  </tbody>\n",
       "</table>\n",
       "</div>"
      ],
      "text/plain": [
       "      reg_ts  uid\n",
       "0  911382223    1\n",
       "1  932683089    2\n",
       "2  947802447    3\n",
       "3  959523541    4\n",
       "4  969103313    5"
      ]
     },
     "execution_count": 5,
     "metadata": {},
     "output_type": "execute_result"
    }
   ],
   "source": [
    "df2.head()"
   ]
  },
  {
   "cell_type": "code",
   "execution_count": 72,
   "id": "715ef39a",
   "metadata": {},
   "outputs": [
    {
     "data": {
      "text/plain": [
       "reg_ts    0\n",
       "uid       0\n",
       "dtype: int64"
      ]
     },
     "execution_count": 72,
     "metadata": {},
     "output_type": "execute_result"
    }
   ],
   "source": [
    "df2.isna().sum()"
   ]
  },
  {
   "cell_type": "code",
   "execution_count": 73,
   "id": "663053d6",
   "metadata": {},
   "outputs": [
    {
     "data": {
      "text/plain": [
       "0"
      ]
     },
     "execution_count": 73,
     "metadata": {},
     "output_type": "execute_result"
    }
   ],
   "source": [
    "df2.duplicated().sum()"
   ]
  },
  {
   "cell_type": "markdown",
   "id": "958e3650",
   "metadata": {},
   "source": [
    "Как мы видим, никаких пропусков и дубликатов нет. Данные считались нормально. Сразу же замечаем, что можно соединить наши данные по столбцу uid, который в данном случае обозначает индивидуальный номер пользователя."
   ]
  },
  {
   "cell_type": "code",
   "execution_count": 4,
   "id": "21d2f844",
   "metadata": {},
   "outputs": [],
   "source": [
    "df = df1.merge(df2, on='uid')"
   ]
  },
  {
   "cell_type": "code",
   "execution_count": 41,
   "id": "f67aed2b",
   "metadata": {},
   "outputs": [
    {
     "data": {
      "text/html": [
       "<div>\n",
       "<style scoped>\n",
       "    .dataframe tbody tr th:only-of-type {\n",
       "        vertical-align: middle;\n",
       "    }\n",
       "\n",
       "    .dataframe tbody tr th {\n",
       "        vertical-align: top;\n",
       "    }\n",
       "\n",
       "    .dataframe thead th {\n",
       "        text-align: right;\n",
       "    }\n",
       "</style>\n",
       "<table border=\"1\" class=\"dataframe\">\n",
       "  <thead>\n",
       "    <tr style=\"text-align: right;\">\n",
       "      <th></th>\n",
       "      <th>auth_ts</th>\n",
       "      <th>uid</th>\n",
       "      <th>reg_ts</th>\n",
       "    </tr>\n",
       "  </thead>\n",
       "  <tbody>\n",
       "    <tr>\n",
       "      <th>0</th>\n",
       "      <td>911382223</td>\n",
       "      <td>1</td>\n",
       "      <td>911382223</td>\n",
       "    </tr>\n",
       "    <tr>\n",
       "      <th>1</th>\n",
       "      <td>932683089</td>\n",
       "      <td>2</td>\n",
       "      <td>932683089</td>\n",
       "    </tr>\n",
       "    <tr>\n",
       "      <th>2</th>\n",
       "      <td>932921206</td>\n",
       "      <td>2</td>\n",
       "      <td>932683089</td>\n",
       "    </tr>\n",
       "    <tr>\n",
       "      <th>3</th>\n",
       "      <td>933393015</td>\n",
       "      <td>2</td>\n",
       "      <td>932683089</td>\n",
       "    </tr>\n",
       "    <tr>\n",
       "      <th>4</th>\n",
       "      <td>933875379</td>\n",
       "      <td>2</td>\n",
       "      <td>932683089</td>\n",
       "    </tr>\n",
       "  </tbody>\n",
       "</table>\n",
       "</div>"
      ],
      "text/plain": [
       "     auth_ts  uid     reg_ts\n",
       "0  911382223    1  911382223\n",
       "1  932683089    2  932683089\n",
       "2  932921206    2  932683089\n",
       "3  933393015    2  932683089\n",
       "4  933875379    2  932683089"
      ]
     },
     "execution_count": 41,
     "metadata": {},
     "output_type": "execute_result"
    }
   ],
   "source": [
    "df.head()"
   ]
  },
  {
   "cell_type": "markdown",
   "id": "764308ae",
   "metadata": {},
   "source": [
    "Здесь у нас auth_ts и reg_ts обозначают дату аутентификации и дату регистрации соответственно. Нетрудно заметить, что привычная нам дата закодирована в timestamp-формате."
   ]
  },
  {
   "cell_type": "code",
   "execution_count": 42,
   "id": "5938ea8a",
   "metadata": {},
   "outputs": [],
   "source": [
    "df['auth_ts'] = df['auth_ts'].apply(datetime.fromtimestamp)\n",
    "df['reg_ts'] = df['reg_ts'].apply(datetime.fromtimestamp)\n",
    "\n"
   ]
  },
  {
   "cell_type": "code",
   "execution_count": 43,
   "id": "029c5383",
   "metadata": {},
   "outputs": [
    {
     "data": {
      "text/html": [
       "<div>\n",
       "<style scoped>\n",
       "    .dataframe tbody tr th:only-of-type {\n",
       "        vertical-align: middle;\n",
       "    }\n",
       "\n",
       "    .dataframe tbody tr th {\n",
       "        vertical-align: top;\n",
       "    }\n",
       "\n",
       "    .dataframe thead th {\n",
       "        text-align: right;\n",
       "    }\n",
       "</style>\n",
       "<table border=\"1\" class=\"dataframe\">\n",
       "  <thead>\n",
       "    <tr style=\"text-align: right;\">\n",
       "      <th></th>\n",
       "      <th>auth_ts</th>\n",
       "      <th>uid</th>\n",
       "      <th>reg_ts</th>\n",
       "    </tr>\n",
       "  </thead>\n",
       "  <tbody>\n",
       "    <tr>\n",
       "      <th>0</th>\n",
       "      <td>1998-11-18 12:43:43</td>\n",
       "      <td>1</td>\n",
       "      <td>1998-11-18 12:43:43</td>\n",
       "    </tr>\n",
       "    <tr>\n",
       "      <th>1</th>\n",
       "      <td>1999-07-23 01:38:09</td>\n",
       "      <td>2</td>\n",
       "      <td>1999-07-23 01:38:09</td>\n",
       "    </tr>\n",
       "    <tr>\n",
       "      <th>2</th>\n",
       "      <td>1999-07-25 19:46:46</td>\n",
       "      <td>2</td>\n",
       "      <td>1999-07-23 01:38:09</td>\n",
       "    </tr>\n",
       "    <tr>\n",
       "      <th>3</th>\n",
       "      <td>1999-07-31 06:50:15</td>\n",
       "      <td>2</td>\n",
       "      <td>1999-07-23 01:38:09</td>\n",
       "    </tr>\n",
       "    <tr>\n",
       "      <th>4</th>\n",
       "      <td>1999-08-05 20:49:39</td>\n",
       "      <td>2</td>\n",
       "      <td>1999-07-23 01:38:09</td>\n",
       "    </tr>\n",
       "  </tbody>\n",
       "</table>\n",
       "</div>"
      ],
      "text/plain": [
       "              auth_ts  uid              reg_ts\n",
       "0 1998-11-18 12:43:43    1 1998-11-18 12:43:43\n",
       "1 1999-07-23 01:38:09    2 1999-07-23 01:38:09\n",
       "2 1999-07-25 19:46:46    2 1999-07-23 01:38:09\n",
       "3 1999-07-31 06:50:15    2 1999-07-23 01:38:09\n",
       "4 1999-08-05 20:49:39    2 1999-07-23 01:38:09"
      ]
     },
     "execution_count": 43,
     "metadata": {},
     "output_type": "execute_result"
    }
   ],
   "source": [
    "# Теперь у нас готовый датафрейм. Можно приступать к анализу.\n",
    "df.head()"
   ]
  },
  {
   "cell_type": "markdown",
   "id": "ac8c794d",
   "metadata": {},
   "source": [
    "# 1. Предположим, что данные - это сведения о аутентификации и регистрации пользователя в мобильной. Компания у нас небольшая, средств для подключения к продвинутым аналитическим платформам нет. Прежде всего нам необходимо знать наш retention по определённому промежутку времени(пусть по дням). \n",
    "\n",
    "Нам необходима такая функция, которая в любой момент времени при обращении к ней, могла на основании любого датафрейма построить график retention по дням. "
   ]
  },
  {
   "cell_type": "code",
   "execution_count": 47,
   "id": "908fb83f",
   "metadata": {},
   "outputs": [
    {
     "data": {
      "text/plain": [
       "reg_ts    2020-09-23 18:17:24\n",
       "auth_ts   2020-09-23 18:17:24\n",
       "dtype: datetime64[ns]"
      ]
     },
     "execution_count": 47,
     "metadata": {},
     "output_type": "execute_result"
    }
   ],
   "source": [
    "df[['reg_ts', 'auth_ts']].max()"
   ]
  },
  {
   "cell_type": "code",
   "execution_count": 105,
   "id": "66fb1411",
   "metadata": {},
   "outputs": [],
   "source": [
    "def retention(period, \n",
    "              data, \n",
    "              start_date, \n",
    "              end_date, \n",
    "              user_id, \n",
    "              cmap = ['#B0E0E6', '#1E90FF', '#0000FF']\n",
    "             ):\n",
    "    \n",
    "    '''\n",
    "    : param period: период анализа, указывать в формате str. Если период больше 31 дня - ошибка.\n",
    "    : param data: набор данных в формате pd.DataFrame.\n",
    "    : param start_date: колонка с датой начала, указывать в формате str.\n",
    "    : param end_date: колонка с датой окончания, указывать в формате str.\n",
    "    : param user_id: колонка с идентификаторами пользователей, указывать в формате str.\n",
    "    : param cmap: по умолчанию 3 оттенка синего.\n",
    "    : return heatmap \n",
    "    '''\n",
    "    period = period\n",
    "    days_df = data.query(\"reg_ts > = @period\")\n",
    "    \n",
    "    days_df[start_date] = pd.to_datetime(days_df[start_date].dt.date)\n",
    "    days_df[end_date] = pd.to_datetime(days_df[end_date].dt.date)\n",
    "    days_df['delta'] = days_df[end_date] - days_df[start_date]\n",
    "    pivot = days_df.pivot_table(index = start_date, columns = 'delta', values = user_id, aggfunc = 'nunique')\n",
    "    pivot = round(pivot.divide(pivot.iloc[: , 0], axis = 'index').iloc[:-1, 1:], 4)\n",
    "    \n",
    "    if days_df['delta'].max() <= pd.Timedelta('7 days 00:00:00'):\n",
    "        plt.figure(figsize = (15, 10))\n",
    "        sns.heatmap(pivot, \n",
    "                    annot = True, \n",
    "                    xticklabels = pivot.columns.astype('str'), \n",
    "                    yticklabels = pivot.index.astype('str'),\n",
    "                    cmap = cmap,\n",
    "                    fmt='.2%',\n",
    "                    annot_kws = dict(\n",
    "                        color = 'black',\n",
    "                        fontsize = 16),\n",
    "                    linewidth = 1,\n",
    "                    linecolor = 'white',\n",
    "                    cbar_kws = dict(\n",
    "                        extend = 'min',\n",
    "                        ticks = np.arange(1, 1)))\n",
    "        plt.xlabel(' ')\n",
    "        plt.ylabel(' ')\n",
    "        plt.xticks(color = 'black',\n",
    "                   fontsize = 16,\n",
    "                   rotation = 90)\n",
    "        plt.yticks(rotation = 0,\n",
    "                   color = 'black',\n",
    "                   fontsize = 16)\n",
    "        plt.title(label = f'''Когортный анализ за {days_df['delta'].max().days} дней''',\n",
    "                  color = 'black',\n",
    "                  fontsize = 20,\n",
    "                  x = 0.5)\n",
    "        plt.show()\n",
    "        \n",
    "    elif days_df['delta'].max() <= pd.Timedelta('14 days 00:00:00'):\n",
    "        plt.figure(figsize = (20, 12))\n",
    "        sns.heatmap(pivot, \n",
    "                    annot = True, \n",
    "                    xticklabels = pivot.columns.astype('str'), \n",
    "                    yticklabels = pivot.index.astype('str'),\n",
    "                    cmap = ['#B0E0E6', '#87CEFA', '#1E90FF', '#4169E1', '#0000FF'],\n",
    "                    fmt='.2%',\n",
    "                    annot_kws = dict(\n",
    "                        color = 'black',\n",
    "                        fontsize = 14),\n",
    "                    linewidth = 1,\n",
    "                    linecolor = 'white',\n",
    "                    cbar_kws = dict(\n",
    "                        extend = 'min',\n",
    "                        ticks = np.arange(1, 1)))\n",
    "        plt.xlabel(' ')\n",
    "        plt.ylabel(' ')\n",
    "        plt.xticks(color = 'black',\n",
    "                   fontsize = 16,\n",
    "                   rotation = 90)\n",
    "        plt.yticks(rotation = 0,\n",
    "                   color = 'black',\n",
    "                   fontsize = 16)\n",
    "        plt.title(label = f'''Когортный анализ за {days_df['delta'].max().days} дней''',\n",
    "                  color = 'black',\n",
    "                  fontsize = 24,\n",
    "                  x = 0.5)\n",
    "        plt.show()\n",
    "    elif days_df['delta'].max() > pd.Timedelta('31 days 00:00:00'):\n",
    "        print('Слишком большой период, пожалуйста укажите период не больше 31 дня')\n",
    "    else:\n",
    "        plt.figure(figsize = (30, 20))\n",
    "        sns.heatmap(pivot, \n",
    "                    annot = True, \n",
    "                    xticklabels = pivot.columns.astype('str'), \n",
    "                    yticklabels = pivot.index.astype('str'),\n",
    "                    cmap = ['#B0E0E6', '#87CEFA', '#1E90FF', '#4169E1', '#0000FF'],\n",
    "                    fmt='.2%',\n",
    "                    annot_kws = dict(\n",
    "                        color = 'black',\n",
    "                        fontsize = 12),\n",
    "                    linewidth = 1,\n",
    "                    linecolor = 'white',\n",
    "                    cbar_kws = dict(\n",
    "                        extend = 'min',\n",
    "                        ticks = np.arange(1, 1)))\n",
    "        plt.xlabel(' ')\n",
    "        plt.ylabel(' ')\n",
    "        plt.xticks(color = 'black',\n",
    "                   fontsize = 16,\n",
    "                   rotation = 90)\n",
    "        plt.yticks(rotation = 0,\n",
    "                   color = 'black',\n",
    "                   fontsize = 16)\n",
    "        plt.title(label = f'''Когортный анализ за {days_df['delta'].max().days} дней''',\n",
    "                  color = 'black',\n",
    "                  fontsize = 34,\n",
    "                  x = 0.5)\n",
    "        plt.show()"
   ]
  },
  {
   "cell_type": "code",
   "execution_count": 67,
   "id": "5396fa30",
   "metadata": {},
   "outputs": [
    {
     "data": {
      "image/png": "[encoded data removed]",
      "text/plain": [
       "<Figure size 1080x720 with 2 Axes>"
      ]
     },
     "metadata": {
      "needs_background": "light"
     },
     "output_type": "display_data"
    }
   ],
   "source": [
    "# Теперь можно ввести необходимую дату и получить retention по дням вплоть до последней даты.\n",
    "# Например, возьмём период за 7 дней до последней даты.\n",
    "retention(\n",
    "    period = '2020-09-16',\n",
    "    data = df,\n",
    "    start_date = 'reg_ts',\n",
    "    end_date = 'auth_ts',\n",
    "    user_id = 'uid')"
   ]
  },
  {
   "cell_type": "markdown",
   "id": "20899c2d",
   "metadata": {},
   "source": [
    "Таким образом, мы берём когорту всех пользователей, зарегистрировавшихся в определённое время, которые вернулись на следующий день."
   ]
  },
  {
   "cell_type": "markdown",
   "id": "0029562a",
   "metadata": {},
   "source": [
    "# 2. Компания провела несколько наборов акционных предложений.   Имеются следующие данные A/B теста:\n",
    "1) ARPU в тестовой группе больше на 5%, чем в контрольной\n",
    "\n",
    "2) При этом в контрольной группе 1928 игроков из 202103 оказались платящими, а в тестовой – 1805 из 202667.\n",
    "\n",
    "Какой результат нам следует расценивать как лучший? Какие метрики при этом использовать? Необходимо подробнее разобраться на самом датафрейме "
   ]
  },
  {
   "cell_type": "code",
   "execution_count": 7,
   "id": "4584fe9f",
   "metadata": {},
   "outputs": [],
   "source": [
    "data = pd.read_csv('https://getfile.dokpub.com/yandex/get/https://disk.yandex.ru/d/SOkIsD5A8xlI7Q', sep=';')"
   ]
  },
  {
   "cell_type": "markdown",
   "id": "49a44693",
   "metadata": {},
   "source": [
    "Снова прибегнем к EDA"
   ]
  },
  {
   "cell_type": "code",
   "execution_count": 8,
   "id": "e7f38822",
   "metadata": {},
   "outputs": [
    {
     "data": {
      "text/html": [
       "<div>\n",
       "<style scoped>\n",
       "    .dataframe tbody tr th:only-of-type {\n",
       "        vertical-align: middle;\n",
       "    }\n",
       "\n",
       "    .dataframe tbody tr th {\n",
       "        vertical-align: top;\n",
       "    }\n",
       "\n",
       "    .dataframe thead th {\n",
       "        text-align: right;\n",
       "    }\n",
       "</style>\n",
       "<table border=\"1\" class=\"dataframe\">\n",
       "  <thead>\n",
       "    <tr style=\"text-align: right;\">\n",
       "      <th></th>\n",
       "      <th>user_id</th>\n",
       "      <th>revenue</th>\n",
       "      <th>testgroup</th>\n",
       "    </tr>\n",
       "  </thead>\n",
       "  <tbody>\n",
       "    <tr>\n",
       "      <th>0</th>\n",
       "      <td>1</td>\n",
       "      <td>0</td>\n",
       "      <td>b</td>\n",
       "    </tr>\n",
       "    <tr>\n",
       "      <th>1</th>\n",
       "      <td>2</td>\n",
       "      <td>0</td>\n",
       "      <td>a</td>\n",
       "    </tr>\n",
       "    <tr>\n",
       "      <th>2</th>\n",
       "      <td>3</td>\n",
       "      <td>0</td>\n",
       "      <td>a</td>\n",
       "    </tr>\n",
       "    <tr>\n",
       "      <th>3</th>\n",
       "      <td>4</td>\n",
       "      <td>0</td>\n",
       "      <td>b</td>\n",
       "    </tr>\n",
       "    <tr>\n",
       "      <th>4</th>\n",
       "      <td>5</td>\n",
       "      <td>0</td>\n",
       "      <td>b</td>\n",
       "    </tr>\n",
       "    <tr>\n",
       "      <th>...</th>\n",
       "      <td>...</td>\n",
       "      <td>...</td>\n",
       "      <td>...</td>\n",
       "    </tr>\n",
       "    <tr>\n",
       "      <th>404765</th>\n",
       "      <td>404766</td>\n",
       "      <td>0</td>\n",
       "      <td>a</td>\n",
       "    </tr>\n",
       "    <tr>\n",
       "      <th>404766</th>\n",
       "      <td>404767</td>\n",
       "      <td>0</td>\n",
       "      <td>b</td>\n",
       "    </tr>\n",
       "    <tr>\n",
       "      <th>404767</th>\n",
       "      <td>404768</td>\n",
       "      <td>231</td>\n",
       "      <td>a</td>\n",
       "    </tr>\n",
       "    <tr>\n",
       "      <th>404768</th>\n",
       "      <td>404769</td>\n",
       "      <td>0</td>\n",
       "      <td>a</td>\n",
       "    </tr>\n",
       "    <tr>\n",
       "      <th>404769</th>\n",
       "      <td>404770</td>\n",
       "      <td>0</td>\n",
       "      <td>b</td>\n",
       "    </tr>\n",
       "  </tbody>\n",
       "</table>\n",
       "<p>404770 rows × 3 columns</p>\n",
       "</div>"
      ],
      "text/plain": [
       "        user_id  revenue testgroup\n",
       "0             1        0         b\n",
       "1             2        0         a\n",
       "2             3        0         a\n",
       "3             4        0         b\n",
       "4             5        0         b\n",
       "...         ...      ...       ...\n",
       "404765   404766        0         a\n",
       "404766   404767        0         b\n",
       "404767   404768      231         a\n",
       "404768   404769        0         a\n",
       "404769   404770        0         b\n",
       "\n",
       "[404770 rows x 3 columns]"
      ]
     },
     "execution_count": 8,
     "metadata": {},
     "output_type": "execute_result"
    }
   ],
   "source": [
    "data"
   ]
  },
  {
   "cell_type": "code",
   "execution_count": 9,
   "id": "15f4127b",
   "metadata": {},
   "outputs": [
    {
     "data": {
      "text/plain": [
       "user_id      0\n",
       "revenue      0\n",
       "testgroup    0\n",
       "dtype: int64"
      ]
     },
     "execution_count": 9,
     "metadata": {},
     "output_type": "execute_result"
    }
   ],
   "source": [
    "data.isna().sum()"
   ]
  },
  {
   "cell_type": "code",
   "execution_count": 10,
   "id": "3668ab1e",
   "metadata": {},
   "outputs": [
    {
     "data": {
      "text/plain": [
       "0"
      ]
     },
     "execution_count": 10,
     "metadata": {},
     "output_type": "execute_result"
    }
   ],
   "source": [
    "data.duplicated().sum()"
   ]
  },
  {
   "cell_type": "markdown",
   "id": "03847345",
   "metadata": {},
   "source": [
    "Таким образом, у нас вновь чистые данные, где колонки обозначают следующее:\n",
    "1) Идентификатор пользователя\n",
    "\n",
    "2) Выручка, которую принес пользователь\n",
    "\n",
    "3) Принадлежность к группе\n"
   ]
  },
  {
   "cell_type": "markdown",
   "id": "11b02ee9",
   "metadata": {},
   "source": [
    "#  Необходимые метрики\n",
    "1) Конверсия - сравним конверсию в разрезе групп и проверим стат. значимость с помощью хи-квадрат.\n",
    "\n",
    "2) ARPU - сравним ARPU в разрезе групп и проверим стат. значимость с помощьюе параметрических/не параметрических тестов\n",
    "\n",
    "3) ARPPU - сравним ARPPU в разрезе групп и проверим стат. значимость с помощьюе параметрических/не параметрических тестов\n",
    "\n",
    "Также следует проверить данные на истинность согласно данным условиях."
   ]
  },
  {
   "cell_type": "code",
   "execution_count": 11,
   "id": "74e33960",
   "metadata": {},
   "outputs": [],
   "source": [
    "summa = data.groupby('testgroup', as_index=False).agg({'revenue': 'sum'})"
   ]
  },
  {
   "cell_type": "code",
   "execution_count": 12,
   "id": "85f67e1f",
   "metadata": {},
   "outputs": [
    {
     "data": {
      "text/html": [
       "<div>\n",
       "<style scoped>\n",
       "    .dataframe tbody tr th:only-of-type {\n",
       "        vertical-align: middle;\n",
       "    }\n",
       "\n",
       "    .dataframe tbody tr th {\n",
       "        vertical-align: top;\n",
       "    }\n",
       "\n",
       "    .dataframe thead th {\n",
       "        text-align: right;\n",
       "    }\n",
       "</style>\n",
       "<table border=\"1\" class=\"dataframe\">\n",
       "  <thead>\n",
       "    <tr style=\"text-align: right;\">\n",
       "      <th></th>\n",
       "      <th>testgroup</th>\n",
       "      <th>revenue</th>\n",
       "    </tr>\n",
       "  </thead>\n",
       "  <tbody>\n",
       "    <tr>\n",
       "      <th>0</th>\n",
       "      <td>a</td>\n",
       "      <td>5136189</td>\n",
       "    </tr>\n",
       "    <tr>\n",
       "      <th>1</th>\n",
       "      <td>b</td>\n",
       "      <td>5421603</td>\n",
       "    </tr>\n",
       "  </tbody>\n",
       "</table>\n",
       "</div>"
      ],
      "text/plain": [
       "  testgroup  revenue\n",
       "0         a  5136189\n",
       "1         b  5421603"
      ]
     },
     "execution_count": 12,
     "metadata": {},
     "output_type": "execute_result"
    }
   ],
   "source": [
    "summa"
   ]
  },
  {
   "cell_type": "code",
   "execution_count": 13,
   "id": "547f0d3a",
   "metadata": {},
   "outputs": [
    {
     "data": {
      "text/plain": [
       "1.055569216786999"
      ]
     },
     "execution_count": 13,
     "metadata": {},
     "output_type": "execute_result"
    }
   ],
   "source": [
    "# revenue дейсвтительно в тестовой группе b больше примерно на 5%\n",
    "5421603 / 5136189"
   ]
  },
  {
   "cell_type": "code",
   "execution_count": 14,
   "id": "9423b96b",
   "metadata": {},
   "outputs": [],
   "source": [
    "group_by_group = data \\\n",
    "    .groupby('testgroup', as_index = False) \\\n",
    "    .agg({'user_id' : 'count'}) \\\n",
    "    .rename(columns = {'user_id' : 'count'})"
   ]
  },
  {
   "cell_type": "code",
   "execution_count": 15,
   "id": "d234da50",
   "metadata": {},
   "outputs": [
    {
     "data": {
      "text/html": [
       "<div>\n",
       "<style scoped>\n",
       "    .dataframe tbody tr th:only-of-type {\n",
       "        vertical-align: middle;\n",
       "    }\n",
       "\n",
       "    .dataframe tbody tr th {\n",
       "        vertical-align: top;\n",
       "    }\n",
       "\n",
       "    .dataframe thead th {\n",
       "        text-align: right;\n",
       "    }\n",
       "</style>\n",
       "<table border=\"1\" class=\"dataframe\">\n",
       "  <thead>\n",
       "    <tr style=\"text-align: right;\">\n",
       "      <th></th>\n",
       "      <th>testgroup</th>\n",
       "      <th>count</th>\n",
       "    </tr>\n",
       "  </thead>\n",
       "  <tbody>\n",
       "    <tr>\n",
       "      <th>0</th>\n",
       "      <td>a</td>\n",
       "      <td>202103</td>\n",
       "    </tr>\n",
       "    <tr>\n",
       "      <th>1</th>\n",
       "      <td>b</td>\n",
       "      <td>202667</td>\n",
       "    </tr>\n",
       "  </tbody>\n",
       "</table>\n",
       "</div>"
      ],
      "text/plain": [
       "  testgroup   count\n",
       "0         a  202103\n",
       "1         b  202667"
      ]
     },
     "execution_count": 15,
     "metadata": {},
     "output_type": "execute_result"
    }
   ],
   "source": [
    "# Видим, что количество пользователей в обеих группах примерно одинаково\n",
    "group_by_group"
   ]
  },
  {
   "cell_type": "markdown",
   "id": "94b1e3c9",
   "metadata": {},
   "source": [
    "# Конверсия\n",
    "Нам нужна колонка, которая покажет делал ли пользователь покупку в рамках эксперимента\n"
   ]
  },
  {
   "cell_type": "code",
   "execution_count": 16,
   "id": "648c9663",
   "metadata": {},
   "outputs": [
    {
     "data": {
      "text/html": [
       "<div>\n",
       "<style scoped>\n",
       "    .dataframe tbody tr th:only-of-type {\n",
       "        vertical-align: middle;\n",
       "    }\n",
       "\n",
       "    .dataframe tbody tr th {\n",
       "        vertical-align: top;\n",
       "    }\n",
       "\n",
       "    .dataframe thead th {\n",
       "        text-align: right;\n",
       "    }\n",
       "</style>\n",
       "<table border=\"1\" class=\"dataframe\">\n",
       "  <thead>\n",
       "    <tr style=\"text-align: right;\">\n",
       "      <th></th>\n",
       "      <th>user_id</th>\n",
       "      <th>revenue</th>\n",
       "      <th>testgroup</th>\n",
       "      <th>purchase</th>\n",
       "    </tr>\n",
       "  </thead>\n",
       "  <tbody>\n",
       "    <tr>\n",
       "      <th>0</th>\n",
       "      <td>1</td>\n",
       "      <td>0</td>\n",
       "      <td>b</td>\n",
       "      <td>no</td>\n",
       "    </tr>\n",
       "    <tr>\n",
       "      <th>1</th>\n",
       "      <td>2</td>\n",
       "      <td>0</td>\n",
       "      <td>a</td>\n",
       "      <td>no</td>\n",
       "    </tr>\n",
       "    <tr>\n",
       "      <th>2</th>\n",
       "      <td>3</td>\n",
       "      <td>0</td>\n",
       "      <td>a</td>\n",
       "      <td>no</td>\n",
       "    </tr>\n",
       "    <tr>\n",
       "      <th>3</th>\n",
       "      <td>4</td>\n",
       "      <td>0</td>\n",
       "      <td>b</td>\n",
       "      <td>no</td>\n",
       "    </tr>\n",
       "    <tr>\n",
       "      <th>4</th>\n",
       "      <td>5</td>\n",
       "      <td>0</td>\n",
       "      <td>b</td>\n",
       "      <td>no</td>\n",
       "    </tr>\n",
       "  </tbody>\n",
       "</table>\n",
       "</div>"
      ],
      "text/plain": [
       "   user_id  revenue testgroup purchase\n",
       "0        1        0         b       no\n",
       "1        2        0         a       no\n",
       "2        3        0         a       no\n",
       "3        4        0         b       no\n",
       "4        5        0         b       no"
      ]
     },
     "execution_count": 16,
     "metadata": {},
     "output_type": "execute_result"
    }
   ],
   "source": [
    "\n",
    "purchases = []\n",
    "for i in data['revenue']:\n",
    "    if i == 0:\n",
    "        x = 'no'\n",
    "    else:\n",
    "        x = 'yes'\n",
    "    purchases.append(x)\n",
    "data['purchase'] = purchases\n",
    "data.head()"
   ]
  },
  {
   "cell_type": "code",
   "execution_count": 17,
   "id": "f52504d0",
   "metadata": {},
   "outputs": [
    {
     "data": {
      "image/png": "[encoded data removed]",
      "text/plain": [
       "<Figure size 432x288 with 1 Axes>"
      ]
     },
     "metadata": {
      "needs_background": "light"
     },
     "output_type": "display_data"
    }
   ],
   "source": [
    "group_by_purchase_test = data \\\n",
    "    .groupby(['purchase', 'testgroup'], as_index = False) \\\n",
    "    .agg({'user_id' : 'count'}) \\\n",
    "    .rename(columns = {'user_id' : 'count'}) \\\n",
    "    .sort_values('testgroup') \\\n",
    "    .reset_index(drop = True)\n",
    "group_by_purchase_test['combination'] = group_by_purchase_test['purchase'] + '_' + group_by_purchase_test['testgroup']\n",
    "group_by_purchase_test['percentage'] = round(group_by_purchase_test['count'][:2] / group_by_purchase_test['count'][:2].sum() * 100, 2)\n",
    "group_by_purchase_test['percentage'][2:] = round(group_by_purchase_test['count'][2:] / group_by_purchase_test['count'][2:].sum() * 100, 2)\n",
    "\n",
    "plt.barh(y = group_by_purchase_test['combination'],\n",
    "         width = group_by_purchase_test['percentage'],\n",
    "         color = ['royalblue', 'royalblue', 'crimson', 'crimson'],\n",
    "         height = 0.8,\n",
    "         edgecolor = 'black',\n",
    "         linewidth = 2)\n",
    "\n",
    "sns.despine(bottom = True)\n",
    "\n",
    "plt.xticks([])\n",
    "plt.yticks(color = 'black',\n",
    "           fontsize = 16,\n",
    "           family = 'serif')\n",
    "\n",
    "for i in range(len(group_by_purchase_test)):\n",
    "    plt.text(s = group_by_purchase_test['percentage'][i],\n",
    "             x = group_by_purchase_test['percentage'][i] + 2,\n",
    "             y = i,\n",
    "             color = 'black',\n",
    "             fontsize = 16,\n",
    "             family = 'serif')\n",
    "    \n",
    "plt.title(label = 'Конверсия по группам',\n",
    "          color = 'black',\n",
    "          fontsize = 20,\n",
    "          x = 0.2,\n",
    "          y = 1.2,\n",
    "          family = 'serif')\n",
    "\n",
    "plt.show()"
   ]
  },
  {
   "cell_type": "code",
   "execution_count": 18,
   "id": "ad98efe6",
   "metadata": {},
   "outputs": [
    {
     "name": "stdout",
     "output_type": "stream",
     "text": [
      "Нулевая гипотеза отклоняется, есть стат. значимое влияние\n"
     ]
    }
   ],
   "source": [
    "alpha = 0.05\n",
    "stat, p = stats.chi2_contingency(pd.crosstab(data['testgroup'], data['purchase']))[:2]\n",
    "if p < alpha:\n",
    "    print('Нулевая гипотеза отклоняется, есть стат. значимое влияние')\n",
    "else:\n",
    "    print('Нулевая гипотеза не отклоняется, нет стат. значимого влияния')"
   ]
  },
  {
   "cell_type": "markdown",
   "id": "cb436ad9",
   "metadata": {},
   "source": [
    "Таким образом, набор акционных предложений для группы a оказал влияние на желание пользователей совершать покупки. "
   ]
  },
  {
   "cell_type": "markdown",
   "id": "d0d8ab14",
   "metadata": {},
   "source": [
    "# ARPU / ARPPU"
   ]
  },
  {
   "cell_type": "code",
   "execution_count": 19,
   "id": "fc7eaf00",
   "metadata": {},
   "outputs": [
    {
     "data": {
      "image/png": "[encoded data removed]",
      "text/plain": [
       "<Figure size 432x288 with 1 Axes>"
      ]
     },
     "metadata": {
      "needs_background": "light"
     },
     "output_type": "display_data"
    }
   ],
   "source": [
    "arpu_by_group = round(data \\\n",
    "    .groupby('testgroup', as_index = False) \\\n",
    "    .agg({'revenue' : 'mean'}), 2)\n",
    "\n",
    "arppu_by_group = round(data \\\n",
    "    .query('revenue > 0') \\\n",
    "    .groupby('testgroup', as_index = False) \\\n",
    "    .agg({'revenue' : 'mean'}), 2)\n",
    "\n",
    "plt.figure()\n",
    "\n",
    "plt.text(s = f'''ARPU (group a) \n",
    "{arpu_by_group['revenue'][0]}''',\n",
    "           color = 'steelblue',\n",
    "           fontsize = 16,\n",
    "           x = 0.5,\n",
    "           y = 0.8,\n",
    "           family = 'serif')\n",
    "\n",
    "plt.text(s = f'''ARPU (group b) \n",
    "{arpu_by_group['revenue'][1]}''',\n",
    "           color = 'crimson',\n",
    "           fontsize = 16,\n",
    "           x = 1.2,\n",
    "           y = 0.8,\n",
    "           family = 'serif')\n",
    "\n",
    "plt.text(s = f'''Разница ARPU\n",
    "{round(abs((arpu_by_group['revenue'][0]-arpu_by_group['revenue'][1]) / arpu_by_group['revenue'][0] * 100))}%''',\n",
    "           color = 'black',\n",
    "           fontsize = 16,\n",
    "           x = 0.85,\n",
    "           y = 0.5,\n",
    "           family = 'serif')\n",
    "\n",
    "plt.text(s = f'''ARPPU (group a) \n",
    "{arppu_by_group['revenue'][0]}''',\n",
    "           color = 'steelblue',\n",
    "           fontsize = 16,\n",
    "           x = 0.5,\n",
    "           y = 0.2,\n",
    "           family = 'serif')\n",
    "\n",
    "plt.text(s = f'''ARPPU (group b) \n",
    "{arppu_by_group['revenue'][1]}''',\n",
    "           color = 'crimson',\n",
    "           fontsize = 16,\n",
    "           x = 1.2,\n",
    "           y = 0.2,\n",
    "           family = 'serif')\n",
    "\n",
    "plt.text(s = f'''Разница ARPPU\n",
    "{round(abs((arppu_by_group['revenue'][0]-arppu_by_group['revenue'][1]) / arppu_by_group['revenue'][0] * 100))}%''',\n",
    "           color = 'black',\n",
    "           fontsize = 16,\n",
    "           x = 0.85,\n",
    "           y = -0.1,\n",
    "           family = 'serif')\n",
    "\n",
    "plt.axis('off')\n",
    "\n",
    "plt.title(label = 'ARPU & ARPPU',\n",
    "          color = 'black',\n",
    "          fontsize = 20,\n",
    "          x = 0.2,\n",
    "          y = 1.2,\n",
    "          family = 'serif')\n",
    "\n",
    "plt.show()"
   ]
  },
  {
   "cell_type": "markdown",
   "id": "7b01d6c6",
   "metadata": {},
   "source": [
    "Из графика видно, что средняя выручка на пользователя и платящего пользователя больше в группе b. Теперь исследуем распределения выручки.\n",
    "\n"
   ]
  },
  {
   "cell_type": "code",
   "execution_count": 22,
   "id": "cc4461a6",
   "metadata": {},
   "outputs": [
    {
     "data": {
      "image/png": "[encoded data removed]",
      "text/plain": [
       "<Figure size 936x216 with 2 Axes>"
      ]
     },
     "metadata": {
      "needs_background": "light"
     },
     "output_type": "display_data"
    },
    {
     "name": "stdout",
     "output_type": "stream",
     "text": [
      "Группа a:\n",
      "мин. выручка = 200\n",
      "макс. выручка - 37433\n",
      "медиана - 311.0\n",
      "\n",
      "Группа b:\n",
      "мин. выручка = 2000\n",
      "макс. выручка - 4000\n",
      "медиана - 3022.0\n",
      "\n"
     ]
    }
   ],
   "source": [
    "fig = plt.figure(figsize = (13, 3))\n",
    "\n",
    "ax0 = fig.add_axes([0, 0, 0.8, 0.8])\n",
    "ax1 = fig.add_axes([0, -1, 0.8, 0.8])\n",
    "\n",
    "sns.violinplot(data.query(\"testgroup == 'a' & revenue > 0\")['revenue'],\n",
    "               ax = ax0,\n",
    "               color = 'royalblue',\n",
    "               edgecolor = 'black',\n",
    "               linewidth = 4)\n",
    "\n",
    "sns.violinplot(data.query(\"testgroup == 'b' & revenue > 0\")['revenue'],\n",
    "               ax = ax1,\n",
    "               color = 'crimson',\n",
    "               edgecolor = 'black',\n",
    "               linewidth = 4)\n",
    "\n",
    "ax0.annotate(text = f'''{len(data.query(\"testgroup == 'a' & revenue > 37000\")['revenue'])} пользователя\n",
    "с выручкой 37к+''',\n",
    "             fontsize = 15,\n",
    "             color = 'black',\n",
    "             family = 'serif',\n",
    "             xy = (37000, -0.05), \n",
    "             xytext = (30000, -0.3),\n",
    "             arrowprops = dict(\n",
    "                 color = 'black', \n",
    "                 arrowstyle = '->', \n",
    "                 connectionstyle = 'arc3,rad=-0.',\n",
    "                 lw = 3)\n",
    "            )\n",
    "\n",
    "ax0.set_xlabel(' ')\n",
    "ax1.set_xlabel(' ')\n",
    "ax0.set_ylabel('group a',\n",
    "               fontsize = 20,\n",
    "               family = 'serif')\n",
    "ax1.set_ylabel('group b',\n",
    "               fontsize = 20,\n",
    "               family = 'serif')\n",
    "\n",
    "ax0.tick_params(length = 0, \n",
    "                width = 0, \n",
    "                colors = 'black', \n",
    "                labelsize = 16)\n",
    "ax1.tick_params(length = 0, \n",
    "                width = 0, \n",
    "                colors = 'black', \n",
    "                grid_color = 'black', \n",
    "                labelsize = 16)\n",
    "\n",
    "\n",
    "sns.despine()\n",
    "\n",
    "ax0.set_title(label = 'Выручка по группам',\n",
    "          color = 'black',\n",
    "          fontsize = 20,\n",
    "          x = 0.05,\n",
    "          y = 1.2,\n",
    "          family = 'serif')\n",
    "\n",
    "plt.show()\n",
    "\n",
    "for i in ['a', 'b']:\n",
    "    print(f'''Группа {i}:\n",
    "мин. выручка = {data.query(\"testgroup == @i & revenue > 0\")['revenue'].min()}\n",
    "макс. выручка - {data.query(\"testgroup == @i & revenue > 0\")['revenue'].max()}\n",
    "медиана - {data.query(\"testgroup == @i & revenue > 0\")['revenue'].median()}''')\n",
    "    print()"
   ]
  },
  {
   "cell_type": "markdown",
   "id": "4e435341",
   "metadata": {},
   "source": [
    "\n",
    "# Результаты анализа выручки:\n",
    "\n",
    "1) В группе а размах выручки в разы больше, чем размах в группе b.\n",
    "\n",
    "2) Распределение выручки в группе b более равномерно. В группе а пользователи совершают либо недорогие покупки, либо небольшая часть очень дорогие покупки.\n",
    "\n",
    "3) Различная модель поведения пользователей.\n",
    "\n",
    "4) Медианная выручка группы b примерно в 10 раз больше медианной выручки группы a.\n",
    " \n",
    "# Чтобы определить имеется ли стат. значимая разница ARPU\\ARPPU между группами будем использовать t-test и bootstrap (mean).\n",
    "\n",
    "Применение параметрических методов обусловлено следующим:\n",
    "\n",
    "1) Вышеуказанные методы проверяют наличие стат. значимой разницы метрики из задания\n",
    "\n",
    "2) Большое кол-во наблюдений\n",
    "\n",
    "3) Результаты t-test и bootstrap (mean) легче интерпретировать\n",
    "\n",
    "4) Непараметрические методы не учитывают специфику распределений (в группе а имеют значительные группа пользователей, которые принесли в разы больше выручки, чем среднестатистический пользователь - не случайность)"
   ]
  },
  {
   "cell_type": "markdown",
   "id": "14013388",
   "metadata": {},
   "source": [
    "# ARPU\n",
    "\n",
    "t-test"
   ]
  },
  {
   "cell_type": "code",
   "execution_count": 24,
   "id": "bbe85e94",
   "metadata": {},
   "outputs": [
    {
     "name": "stdout",
     "output_type": "stream",
     "text": [
      "0.5329647014130866\n",
      "Нуелвая гипотеза о равенстве средних не отклонена\n"
     ]
    }
   ],
   "source": [
    "alpha = 0.05\n",
    "p = stats.ttest_ind(data.query(\"testgroup == 'a'\")['revenue'], data.query(\"testgroup == 'b'\")['revenue'], \n",
    "                    equal_var = False)[1]\n",
    "print(p)\n",
    "if p < alpha:\n",
    "    print('Нулевая гипотеза о равенстве средних отклонена')\n",
    "else:\n",
    "    print('Нуелвая гипотеза о равенстве средних не отклонена')"
   ]
  },
  {
   "cell_type": "markdown",
   "id": "d6c59930",
   "metadata": {},
   "source": [
    "t-test показал, что нет стат. значимой разницы между ARPU группы а и группы b.\n",
    "\n",
    "Теперь проверим равенство средних с помощью bootstrap.\n"
   ]
  },
  {
   "cell_type": "code",
   "execution_count": 27,
   "id": "50b5127b",
   "metadata": {},
   "outputs": [
    {
     "name": "stdout",
     "output_type": "stream",
     "text": [
      "p-value =  0.5227531708364697\n"
     ]
    }
   ],
   "source": [
    "def get_bootstrap(\n",
    "    data_column_1, # числовые значения первой выборки\n",
    "    data_column_2, # числовые значения второй выборки\n",
    "    boot_it = 1000, # количество бутстрэп-подвыборок\n",
    "    statistic = np.mean, # интересующая нас статистика\n",
    "    bootstrap_conf_level = 0.95 # уровень значимости\n",
    "):\n",
    "    boot_len = max([len(data_column_1), len(data_column_2)])\n",
    "    boot_data = []\n",
    "    for i in range(boot_it): # извлекаем подвыборки\n",
    "        samples_1 = data_column_1.sample(\n",
    "            boot_len, \n",
    "            replace = True # параметр возвращения\n",
    "        ).values\n",
    "        \n",
    "        samples_2 = data_column_2.sample(\n",
    "            boot_len, \n",
    "            replace = True\n",
    "        ).values\n",
    "        \n",
    "        boot_data.append(statistic(samples_1-samples_2)) # mean() - применяем статистику\n",
    "        \n",
    "    pd_boot_data = pd.DataFrame(boot_data)\n",
    "        \n",
    "    left_quant = (1 - bootstrap_conf_level)/2\n",
    "    right_quant = 1 - (1 - bootstrap_conf_level) / 2\n",
    "    ci = pd_boot_data.quantile([left_quant, right_quant])\n",
    "        \n",
    "    p_1 = stats.norm.cdf(\n",
    "        x = 0, \n",
    "        loc = np.mean(boot_data), \n",
    "        scale = np.std(boot_data)\n",
    "    )\n",
    "    p_2 = stats.norm.cdf(\n",
    "        x = 0, \n",
    "        loc = -np.mean(boot_data), \n",
    "        scale = np.std(boot_data)\n",
    "    )\n",
    "    p_value = min(p_1, p_2) * 2\n",
    "    print('p-value = ', p_value)\n",
    "    \n",
    "boodet_data_mean = get_bootstrap(\n",
    "    data_column_1 = data.query(\"testgroup == 'a'\")['revenue'], \n",
    "    data_column_2 = data.query(\"testgroup == 'b'\")['revenue'], \n",
    "    boot_it = 1000, \n",
    "    statistic = np.mean, \n",
    "    bootstrap_conf_level = 0.95 \n",
    ")"
   ]
  },
  {
   "cell_type": "markdown",
   "id": "ab1dc20c",
   "metadata": {},
   "source": [
    " bootstrap также показал, что нет стат. значимой разницы между средними выручки.\n",
    "\n",
    "# Можем сделать вывод, что различия в акционных наборах не оказали влияние на ARPU.\n",
    "\n",
    "\n",
    "## ARPPU\n",
    "\n"
   ]
  },
  {
   "cell_type": "code",
   "execution_count": 30,
   "id": "f52b2a34",
   "metadata": {},
   "outputs": [
    {
     "name": "stdout",
     "output_type": "stream",
     "text": [
      "0.10020780398916015\n",
      "Нуелвая гипотеза о равенстве средних не отклонена\n"
     ]
    }
   ],
   "source": [
    "p = stats.ttest_ind(data.query(\"testgroup == 'a' & revenue > 0\")['revenue'], data.query(\"testgroup == 'b' & revenue > 0\")['revenue'], \n",
    "                    equal_var = False)[1]\n",
    "print(p)\n",
    "if p < alpha:\n",
    "    print('Нулевая гипотеза о равенстве средних отклонена')\n",
    "else:\n",
    "    print('Нуелвая гипотеза о равенстве средних не отклонена')"
   ]
  },
  {
   "cell_type": "markdown",
   "id": "614b8b93",
   "metadata": {},
   "source": [
    "t-test показал, что между ARPPU групы а и группы b нет стат. значимых различий."
   ]
  },
  {
   "cell_type": "code",
   "execution_count": 31,
   "id": "4193744b",
   "metadata": {},
   "outputs": [
    {
     "name": "stdout",
     "output_type": "stream",
     "text": [
      "p-value =  0.1120160211446152\n"
     ]
    }
   ],
   "source": [
    "def get_bootstrap(\n",
    "    data_column_1, # числовые значения первой выборки\n",
    "    data_column_2, # числовые значения второй выборки\n",
    "    boot_it = 1000, # количество бутстрэп-подвыборок\n",
    "    statistic = np.mean, # интересующая нас статистика\n",
    "    bootstrap_conf_level = 0.95 # уровень значимости\n",
    "):\n",
    "    boot_len = max([len(data_column_1), len(data_column_2)])\n",
    "    boot_data = []\n",
    "    for i in range(boot_it): # извлекаем подвыборки\n",
    "        samples_1 = data_column_1.sample(\n",
    "            boot_len, \n",
    "            replace = True # параметр возвращения\n",
    "        ).values\n",
    "        \n",
    "        samples_2 = data_column_2.sample(\n",
    "            boot_len, \n",
    "            replace = True\n",
    "        ).values\n",
    "        \n",
    "        boot_data.append(statistic(samples_1-samples_2)) # mean() - применяем статистику\n",
    "        \n",
    "    pd_boot_data = pd.DataFrame(boot_data)\n",
    "        \n",
    "    left_quant = (1 - bootstrap_conf_level)/2\n",
    "    right_quant = 1 - (1 - bootstrap_conf_level) / 2\n",
    "    ci = pd_boot_data.quantile([left_quant, right_quant])\n",
    "        \n",
    "    p_1 = stats.norm.cdf(\n",
    "        x = 0, \n",
    "        loc = np.mean(boot_data), \n",
    "        scale = np.std(boot_data)\n",
    "    )\n",
    "    p_2 = stats.norm.cdf(\n",
    "        x = 0, \n",
    "        loc = -np.mean(boot_data), \n",
    "        scale = np.std(boot_data)\n",
    "    )\n",
    "    p_value = min(p_1, p_2) * 2\n",
    "    print('p-value = ', p_value)\n",
    "    \n",
    "boodet_data_mean = get_bootstrap(\n",
    "    data_column_1 = data.query(\"testgroup == 'a' & revenue > 0\")['revenue'], \n",
    "    data_column_2 = data.query(\"testgroup == 'b' & revenue > 0\")['revenue'], \n",
    "    boot_it = 1000, \n",
    "    statistic = np.mean, \n",
    "    bootstrap_conf_level = 0.95 \n",
    ")"
   ]
  },
  {
   "cell_type": "markdown",
   "id": "114c8c4b",
   "metadata": {},
   "source": [
    "Согласно bootstrap мы также не можем отклонить нулевую гипотезу.\n",
    "\n",
    "Можем сделать вывод, что набор акционных предложений не оказал стат. значимого влияния на ARPPU."
   ]
  },
  {
   "cell_type": "markdown",
   "id": "159fdd13",
   "metadata": {},
   "source": [
    "# Результаты:\n",
    "\n",
    "\n",
    " 1) Различия между акционными наборами оказали стат. значимое влияние на желание пользователей совершать покупки - в группе а конверсия больше на 0.06%.\n",
    "\n",
    "\n",
    " 2) Различное поведение пользователей в группах - выручка пользователей группы b распределена более равномерно, пользователи группы а в основном совершают более дешевые покупки, но есть исключение в виде группы из 123 пользователей, которые совершили очень дорогие покупки / либо много покупок.\n",
    " \n",
    " \n",
    " 3) Различия между акционными наборами не оказали стат. значимого влияния на ARPU.\n",
    " \n",
    " 4) Различия между акционными наборами не оказали стат. значимого влияния на ARPPU.\n",
    " "
   ]
  },
  {
   "cell_type": "markdown",
   "id": "db434f6a",
   "metadata": {},
   "source": [
    "# Что следует предпринять?"
   ]
  },
  {
   "cell_type": "markdown",
   "id": "f34a00f9",
   "metadata": {},
   "source": [
    "Реализовать акционное предложение для группы b.\n"
   ]
  },
  {
   "cell_type": "markdown",
   "id": "e480c4bb",
   "metadata": {},
   "source": [
    "# 3. В игре X каждый месяц проводятся тематические события, ограниченные по времени. В них игроки могут получить уникальные предметы для дома и персонажей, дополнительные монеты или бонусы. Для получения награды требуется пройти ряд уровней за определенное время. С помощью каких метрик можно оценить результаты последнего прошедшего события?\n",
    "\n",
    "Предположим, в другом событии мы усложнили механику событий так, что при каждой неудачной попытке выполнения уровня игрок будет откатываться на несколько уровней назад. Изменится ли набор метрик оценки результата? "
   ]
  },
  {
   "cell_type": "markdown",
   "id": "4040de39",
   "metadata": {},
   "source": [
    "# Упрощенная механика:\n",
    "\n",
    "DAU - сравнить кол-во пользователей в тематические дни и в обычные.\n",
    "\n",
    "Sticky factor (недельный и месячный) - сравнить коэффициенты \"липучести\" в дни, когда проводятся проводятся тематические, события и в обычные дни.\n",
    "\n",
    "ACU (hour) - определить период времени в сутках с наибольшим кол-вом пользователей, рассчитать среднее число пользователей за час, сравнить показатель с тематическими днями.\n",
    "\n",
    "Относительная и абсолютная конверсии - позволят определить как проведение тематических событий сказывавается на привлечении новой аудитории.\n",
    "\n",
    "ASL - сравнение средней продолжительности сессии в обычный день и тематический позволит определить как тематическое событие влияет на время, которое пользователь проводит в приложении.\n",
    "\n",
    "Интервалы между сессиями - позволит определить имеется ли влияние тематических событий на желание пользователя возвращаться в игру (сравнить с обычным днём). \n",
    "\n",
    "# Усложненная механика:\n",
    "\n",
    "Учитывая, что механика усложнилась и появился риск потерять exp, то в целом можем ожидать, что это негативно скажется на вышеописанных метриках. Соответственно, чтобы оценить его влияние нужно дополнительно учитывать следующие метрики:\n",
    "\n",
    "Доля пользователей, которые вышли после первого неудачной попытки - неудачная попытка и откат это негативные события. Многим не нравится проигрывать, а откат является усилением негативного впечатления пользователя, сравнение значений позволит оценить насколько сильно оказывает влияние откат.\n",
    "\n",
    "Cредняя продолжительность игры после неудачной попытки - позволит оценить влияние отката на желания пользователя продолжать игру.\n",
    "\n",
    "Cреднее кол-во откатов - позволит оценить \"терпение аудитории\"."
   ]
  },
  {
   "cell_type": "code",
   "execution_count": null,
   "id": "263fed80",
   "metadata": {},
   "outputs": [],
   "source": []
  }
 ],
 "metadata": {
  "kernelspec": {
   "display_name": "Python 3 (ipykernel)",
   "language": "python",
   "name": "python3"
  },
  "language_info": {
   "codemirror_mode": {
    "name": "ipython",
    "version": 3
   },
   "file_extension": ".py",
   "mimetype": "text/x-python",
   "name": "python",
   "nbconvert_exporter": "python",
   "pygments_lexer": "ipython3",
   "version": "3.9.12"
  }
 },
 "nbformat": 4,
 "nbformat_minor": 5
}
